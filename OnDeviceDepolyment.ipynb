{
 "cells": [
  {
   "cell_type": "code",
   "execution_count": null,
   "metadata": {},
   "outputs": [],
   "source": [
    "!pip install onnx\n",
    "!pip3 install -U pip && pip3 install onnxsim\n",
    "!git clone https://github.com/onnx/onnx-tensorflow.git\n",
    "!pip install -e onnx-tensorflow"
   ]
  }
 ],
 "metadata": {
  "kernelspec": {
   "display_name": "on-device-cnn",
   "language": "python",
   "name": "python3"
  },
  "language_info": {
   "name": "python",
   "version": "3.9.18"
  }
 },
 "nbformat": 4,
 "nbformat_minor": 2
}
